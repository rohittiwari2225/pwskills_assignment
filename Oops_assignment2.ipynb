{
  "metadata": {
    "kernelspec": {
      "name": "python",
      "display_name": "Python (Pyodide)",
      "language": "python"
    },
    "language_info": {
      "codemirror_mode": {
        "name": "python",
        "version": 3
      },
      "file_extension": ".py",
      "mimetype": "text/x-python",
      "name": "python",
      "nbconvert_exporter": "python",
      "pygments_lexer": "ipython3",
      "version": "3.8"
    }
  },
  "nbformat_minor": 4,
  "nbformat": 4,
  "cells": [
    {
      "cell_type": "markdown",
      "source": "# ",
      "metadata": {}
    },
    {
      "cell_type": "raw",
      "source": "Q1. What is Abstraction in OOps? Explain with an example.\nANS:-Abstraction in Oops is like the art of simplifying complexity by focusing on the essential qualities while hiding the intricate details.It allows you to define object in terms of their behavior and attributes,without worrying about the implementation specifics.\n",
      "metadata": {}
    },
    {
      "cell_type": "code",
      "source": "from abc import ABC, abstractmethod\n\n# Abstract base class\nclass Animal(ABC):\n    @abstractmethod\n    def make_sound(self):\n        pass\n\nclass Dog(Animal):\n    def make_sound(self):\n        return \"Bark\"\n\nclass Cat(Animal):\n    def make_sound(self):\n        return \"Meow\"\n\n# Example usage\nanimals = [Dog(), Cat()]\nfor animal in animals:\n    print(animal.make_sound())\n",
      "metadata": {
        "trusted": true
      },
      "outputs": [
        {
          "name": "stdout",
          "text": "Bark\nMeow\n",
          "output_type": "stream"
        }
      ],
      "execution_count": 1
    },
    {
      "cell_type": "raw",
      "source": "Q2. Differentiate between Abstraction and Encapsulation. Explain with an example.\nANS:-Abstraction is used to hide complex implementaion details and show only the essential features of the object.(hide complex method )\n#Working of Abstraction:-by  using abstract classes and interfaces to define the \"what\" without specifying the \"how.\"\n\nEncapsulation is used to restrict direct access to some of an object,s components,preventing the accidental modification of data.(restrict the data modification)\n#Working of an Encapsulation:-By building the data (attributes) and methods that operate on the data \ninto a single unit or class,and using access modifiers(private,protected,public) to control access.\n\n\n",
      "metadata": {}
    },
    {
      "cell_type": "code",
      "source": "#example of an Abstraction\nfrom abc import ABC,abstractmethod \nclass Animal(ABC):\n    @abstractmethod\n    def make_sound(self):\n        pass \nclass Dog(Animal):\n    def make_sound(self):\n        return \"Bark\"\nclass Cat(Animal):\n    def make_sound(self):\n        return \"Meow\"\nanimal =[Dog(),Cat()]\nfor a in animal:\n    print(a.make_sound())",
      "metadata": {
        "trusted": true
      },
      "outputs": [
        {
          "name": "stdout",
          "text": "Bark\nMeow\n",
          "output_type": "stream"
        }
      ],
      "execution_count": 2
    },
    {
      "cell_type": "code",
      "source": "#example of Enacapsulation\nclass Car:\n    def __init__(self,make,model,year):\n        self.__make=make #private attribute\n        self.__model=model #private attribute\n        self.__year =year #private attribute\n    def get_details(self):\n        return f\"{self.__make}{self.__model}{self.__year}\"\n    def set_year(self,year):    \n         if year>1885:\n             self.__year=year\ncar =Car(\"toyota\",\"corolla\",2024)\nprint(car.get_details())\ncar.set_year(2022)\nprint(car.get_details())\n\n        ",
      "metadata": {
        "trusted": true
      },
      "outputs": [
        {
          "name": "stdout",
          "text": "toyotacorolla2024\ntoyotacorolla2022\n",
          "output_type": "stream"
        }
      ],
      "execution_count": 3
    },
    {
      "cell_type": "raw",
      "source": "Q3. What is abc module in python? Why is it used?\nANS:-The abc module in Python stands for \"Abstract Base Classes.\" It provides the tools for defining abstract base classes. An abstract base class is a class that cannot be instantiated on its own and is designed to be subclassed. It allows you to define methods that must be created within any subclass derived from the abstract base class, ensuring a consistent interface.\n>Enforcing Method Implementation: You can define methods in the abstract base class that derived classes are required to implement. This ensures that certain methods are always present in the subclasses.\n>Creating a Template: It provides a blueprint for other classes, making it easier to create consistent and predictable interfaces.\n>Encouraging Code Reuse: By using abstract base classes, you can promote the reuse of common interface definitions and behaviors across different classes.\n",
      "metadata": {}
    },
    {
      "cell_type": "code",
      "source": "from abc import ABC,abstractmethod\nclass Shape(ABC):\n    @abstractmethod\n    def area(self):\n        pass\n    @abstractmethod\n    def perimeter(self):\n        pass\nclass Rectangle(Shape):\n    def __init__(self,width,height):\n        self.width=width\n        self.height=height\n    def area(self):\n        return self.width*self.height\n    def perimeter(self):\n        return 2*(self.width+self.height)\nrect=Rectangle(20,30)\nprint(\"area = \" ,rect.area())\n        \n    ",
      "metadata": {
        "trusted": true
      },
      "outputs": [
        {
          "name": "stdout",
          "text": "area =  600\n",
          "output_type": "stream"
        }
      ],
      "execution_count": 12
    },
    {
      "cell_type": "raw",
      "source": "Q4. How can we achieve data abstraction?\nANS:-Data abstracrion is achieved by defining abstract representation of comliex data structures,thereby hiding the intricate detils and showing only the essential features.This is a cornerstone of Object Oriented Programing and helps in simplifying interactions with data.\n\nMethods to Achieve Data Abstraction:\n1.Abstract Classes and Interfaces:\n>Define abstract methods that must be implemented by derived classes.This ensure a consistant interface.for example using python's abc module.",
      "metadata": {}
    },
    {
      "cell_type": "code",
      "source": "from abc import ABC, abstractmethod\n\nclass Employee(ABC):\n    @abstractmethod\n    def calculate_salary(self):\n        pass\n\nclass FullTimeEmployee(Employee):\n    def calculate_salary(self):\n        return \"Full-time salary calculation\"\n\nclass PartTimeEmployee(Employee):\n    def calculate_salary(self):\n        return \"Part-time salary calculation\"\n\n# Example usage\nemployees = [FullTimeEmployee(), PartTimeEmployee()]\nfor emp in employees:\n    print(emp.calculate_salary())\n",
      "metadata": {
        "trusted": true
      },
      "outputs": [],
      "execution_count": null
    },
    {
      "cell_type": "raw",
      "source": "2.Encapsulation:\n>Use private attributes and provide public getter  and seeter methods to control access to the internal data.\n>This hides the internal state and only exposes necessary methods.",
      "metadata": {}
    },
    {
      "cell_type": "code",
      "source": "class BankAccount:\n    def __init__(self, balance):\n        self.__balance = balance  # Private attribute\n\n    def get_balance(self):\n        return self.__balance\n\n    def deposit(self, amount):\n        self.__balance += amount\n\n    def withdraw(self, amount):\n        if amount <= self.__balance:\n            self.__balance -= amount\n        else:\n            print(\"Insufficient funds\")\n\n# Example usage\naccount = BankAccount(1000)\nprint(account.get_balance())  # Accessing balance using public method\naccount.deposit(500)\nprint(account.get_balance())\naccount.withdraw(200)\nprint(account.get_balance())\n",
      "metadata": {
        "trusted": true
      },
      "outputs": [],
      "execution_count": null
    },
    {
      "cell_type": "raw",
      "source": "3.Modules and Packages:\n>Organize code into modules and packages, exposing only the necesssary functions and classes.\n>This allows users to interact with the high-level functions while hiding the detailed implementation.\n4.Properties in Python:\n>Use the property decorator to define getter, setter,and deleter methods in a clean and Pythonic way.\nThe property decorator in Python is used to define methods in a class that behave like attributes. This allows you to add functionality to your class attributes while maintaining a clean and simple interface. With the property decorator, you can define getter, setter, and deleter methods without directly exposing the internal data.\nBenefits of Using the property Decorator:\nEncapsulation: You can control how an attribute is accessed and modified.\n\nReadability: Provides a cleaner and more intuitive way to interact with class attributes.\n\nValidation: You can add validation logic when setting an attribute’s value.\n\nComputed Properties: Allows you to compute attribute values dynamically.\n",
      "metadata": {}
    },
    {
      "cell_type": "code",
      "source": "class Person:\n    def __init__(self,name):\n        self.__name=name\n    @property\n    def name(self):\n        return self.__name\n    @name.setter \n    def name(self,name):\n        if name:\n            self.__name=name\np=Person(\"Alice\")\nprint(p.name)\np.name=\"Bob\"\nprint(p.name)\n            \n    \n    ",
      "metadata": {
        "trusted": true
      },
      "outputs": [
        {
          "name": "stdout",
          "text": "Alice\nBob\n",
          "output_type": "stream"
        }
      ],
      "execution_count": 3
    },
    {
      "cell_type": "code",
      "source": "class Rectangle:\n    def __init__(self, width, height):\n        self._width = width\n        self._height = height\n\n    @property\n    def width(self):\n        return self._width\n\n    @width.setter\n    def width(self, value):\n        if value > 0:\n            self._width = value\n        else:\n            raise ValueError(\"Width must be positive\")\n\n    @property\n    def area(self):\n        return self._width * self._height\n\n# Example usage\nrect = Rectangle(10, 5)\nprint(rect.width)  # Accessing the width property\nrect.width = 15    # Setting the width property\nprint(rect.area)   # Accessing the computed area property\n",
      "metadata": {
        "trusted": true
      },
      "outputs": [
        {
          "name": "stdout",
          "text": "10\n75\n",
          "output_type": "stream"
        }
      ],
      "execution_count": 1
    },
    {
      "cell_type": "raw",
      "source": "In this example:\nGetter: @property decorator turns the width method into a getter.\n\nSetter: @width.setter allows you to define a setter for width, including validation logic.\n\nDeleter: @name.deleter defines the deleter method, which specifies what should happen when the name attribute is deleted. Here, it prints a message and deletes the _name attribute.\n\nComputed Property: @property for area allows rect.area to return the product of width and height, without explicitly storing the area value.\n\nUsing the property decorator, you can manage your class attributes neatly, encapsulating the internal data and providing a clear interface for interacting with those attributes",
      "metadata": {}
    },
    {
      "cell_type": "code",
      "source": "class Person:\n    def __init__(self, name):\n        self._name = name\n\n    @property\n    def name(self):\n        return self._name\n\n    @name.setter\n    def name(self, value):\n        if value:\n            self._name = value\n        else:\n            raise ValueError(\"Name cannot be empty\")\n\n    @name.deleter\n    def name(self):\n        print(\"Deleting name attribute\")\n        del self._name\n\n# Example usage\np = Person(\"Alice\")\nprint(p.name)        # Accessing the name property\np.name = \"Bob\"       # Setting the name property\ndel p.name           # Deleting the name property\n",
      "metadata": {
        "trusted": true
      },
      "outputs": [],
      "execution_count": null
    },
    {
      "cell_type": "raw",
      "source": "Q5. Can we create an instance of an abstract class? Explain your answer.\nAns:-No we can not create an instance of an abstract calss directly,An abstract class is a class that cannot be instantiated on its own and is meant to be subclassed. The purpose of an abstract class is to provide a common interface and base functionality for its subclasses. Abstract classes often contain one or more abstract methods, which are methods declared in the abstract class that have no implementation and must be overridden in subclasses.",
      "metadata": {}
    },
    {
      "cell_type": "code",
      "source": "from abc import ABC, abstractmethod\n\nclass Animal(ABC):\n    @abstractmethod\n    def make_sound(self):\n        pass\n\nclass Dog(Animal):\n    def make_sound(self):\n        return \"Bark\"\n\n# This will raise an error\n# animal = Animal()  # TypeError: Can't instantiate abstract class Animal with abstract methods make_sound\n\n# This is correct\ndog = Dog()\nprint(dog.make_sound())  # Output: Bark\n",
      "metadata": {
        "trusted": true
      },
      "outputs": [],
      "execution_count": null
    },
    {
      "cell_type": "code",
      "source": "\n\n        \n\n",
      "metadata": {
        "trusted": true
      },
      "outputs": [],
      "execution_count": null
    }
  ]
}