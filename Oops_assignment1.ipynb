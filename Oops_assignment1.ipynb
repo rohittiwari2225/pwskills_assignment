{
  "metadata": {
    "kernelspec": {
      "name": "python",
      "display_name": "Python (Pyodide)",
      "language": "python"
    },
    "language_info": {
      "codemirror_mode": {
        "name": "python",
        "version": 3
      },
      "file_extension": ".py",
      "mimetype": "text/x-python",
      "name": "python",
      "nbconvert_exporter": "python",
      "pygments_lexer": "ipython3",
      "version": "3.8"
    }
  },
  "nbformat_minor": 4,
  "nbformat": 4,
  "cells": [
    {
      "cell_type": "markdown",
      "source": "Q1. Explain Class and Object with respect to Object-Oriented Programming. Give a suitable example.\nans:-CLASS:\n     classes are the blueprint or skeleton that defines a set of properties and methods the created object will have.\n     OBJECT:\n     the object is the instance of the class when the class is defined, no memory is allocated until an object of that class is created.\n     ",
      "metadata": {}
    },
    {
      "cell_type": "code",
      "source": "class car():\n    def __init__(self,model,year,max_speed):\n        self.model=model\n        self.year =year\n        self.max_speed =max_speed\n    def display_info(self):\n        print(f\"{self.model} {self.year} {self.max_speed}\")\n    \n    ",
      "metadata": {
        "trusted": true
      },
      "outputs": [],
      "execution_count": 1
    },
    {
      "cell_type": "code",
      "source": "toyota =car(\"helux\",2024,220)\ntoyota.display_info()",
      "metadata": {
        "trusted": true
      },
      "outputs": [
        {
          "name": "stdout",
          "text": "helux 2024 220\n",
          "output_type": "stream"
        }
      ],
      "execution_count": 2
    },
    {
      "cell_type": "markdown",
      "source": "Q2. Name the four pillars of OOPs.\nans:POLYMORPHISM,\n    ENCAPSULATION,\n    INHERITANCE,\n    ABSTRACTION.\n\n\n    ",
      "metadata": {}
    },
    {
      "cell_type": "markdown",
      "source": "Q3. Explain why the __init__() function is used. Give a suitable example.\nans:-__init__ is used to input or pass  data inside class .",
      "metadata": {}
    },
    {
      "cell_type": "code",
      "source": "class calci:\n    def __init__(self,no1,no2):\n        self.no1 = no1\n        self.no2= no2\n    def add(self):\n        c = self.no1 + self.no2\n        print(c)\n    def sub(self):\n        c=  self.no1-self.no2\n        print(c)\n        ",
      "metadata": {
        "trusted": true
      },
      "outputs": [],
      "execution_count": 3
    },
    {
      "cell_type": "code",
      "source": "f=calci(5,3)\nf.add()\nf.sub()\n",
      "metadata": {
        "trusted": true
      },
      "outputs": [
        {
          "name": "stdout",
          "text": "8\n2\n",
          "output_type": "stream"
        }
      ],
      "execution_count": 4
    },
    {
      "cell_type": "markdown",
      "source": "Q4. Why self is used in OOPs?",
      "metadata": {}
    },
    {
      "cell_type": "markdown",
      "source": "In object-oriented programming (OOP), the self keyword is used to represent the instance of the class. Here’s why it’s important:\n\nInstance Reference: self allows you to access the attributes and methods of the class in Python. It must be the first parameter of any method in the class, including the __init__ method, which is the constructor. This way, you can modify the object’s properties and execute tasks unique to that particular instance1.\nExplicit is Better than Implicit: Python follows the principle that “explicit is better than implicit.” By explicitly using self, it’s clear that the method is operating on the instance of the class. This makes the code more readable and understandable2.\nConsistency Across Methods: When you define methods for a class, self ensures that each method can access the instance it belongs to. This is crucial for maintaining the state of an object and for the methods to interact with the object’s attributes3.",
      "metadata": {}
    },
    {
      "cell_type": "markdown",
      "source": "Q5. What is inheritance? Give an example for each type of inheritance.\nans:-when a class accuire or inherit some properties from the base class is known as inheritance .\n     class which inherits is known as a derived class.\n     The concept of code reusability is achieved by inheritance.\n     TYPES OF INHERITANCE \n     1.SINGLE INHERITANCE,\n     2.MULTIPLE INHERITANCE\n     3.MULTILEVEL INHERITANCE\n     4.HIERARCHICAL INHERITANCE\n     5.HYBRID INHERITANCE\n     ",
      "metadata": {}
    },
    {
      "cell_type": "code",
      "source": "#single inheritance\nclass vehicle:\n    def __init__(self,name,number,max_speed):\n        self.name=name\n        self.number=number \n        self.max_speed=max_speed\n\n",
      "metadata": {
        "trusted": true
      },
      "outputs": [],
      "execution_count": 11
    },
    {
      "cell_type": "code",
      "source": "class car(vehicle):\n    def details(self):\n        print(self.name,self.number,self.max_speed)",
      "metadata": {
        "trusted": true
      },
      "outputs": [],
      "execution_count": 12
    },
    {
      "cell_type": "code",
      "source": "tata=car(\"safari\",\"mp533456\",200)\ntata.details()       ",
      "metadata": {
        "trusted": true
      },
      "outputs": [
        {
          "name": "stdout",
          "text": "nano mp533456 100\n",
          "output_type": "stream"
        }
      ],
      "execution_count": 16
    },
    {
      "cell_type": "code",
      "source": "#multilevel inheritance\nclass truck(car):\n    def loadcapacity(self):\n        \n    \n    \n        ",
      "metadata": {
        "trusted": true
      },
      "outputs": [],
      "execution_count": 17
    },
    {
      "cell_type": "code",
      "source": "volvo =truck(\"t1fast\",\"cg573233\",200)\nvolvo.details()",
      "metadata": {
        "trusted": true
      },
      "outputs": [
        {
          "name": "stdout",
          "text": "t1fast cg573233 200\n",
          "output_type": "stream"
        }
      ],
      "execution_count": 19
    },
    {
      "cell_type": "code",
      "source": "#multiple inheritance\nclass livingthings:\n    def info_livingthings(self):\n        print(\" the living things can breath\")\nclass animal:\n    def info_animal(self):\n        print(\"the animal is living things who can move \")\nclass human(livingthings,animal):\n    def info_human(self):\n        print(\"the human is animal who can think and able to take good decisions\")\n        \n    ",
      "metadata": {
        "trusted": true
      },
      "outputs": [],
      "execution_count": 20
    },
    {
      "cell_type": "code",
      "source": "rohan=human()\nrohan.info_livingthings()\nrohan.info_animal()\nrohan.info_human()",
      "metadata": {
        "trusted": true
      },
      "outputs": [
        {
          "name": "stdout",
          "text": " the living things can breath\nthe animal is living things who can move \nthe human is animal who can think and able to take good decisions\n",
          "output_type": "stream"
        }
      ],
      "execution_count": 24
    },
    {
      "cell_type": "code",
      "source": "#herarical inheritance\nclass vehicle:\n    def __init__(self,name,number,max_speed):\n        self.name=name\n        self.number=number \n        self.max_speed=max_speed\n\nclass car(vehicle):\n    def details(self):\n        print(self.name,self.number,self.max_speed)\n        print(\"this is for car\")\nclass van(vehicle):\n    def details(self):\n        print(self.name,self.number,self.max_speed)\n        print(\"this is for van\")\n        ",
      "metadata": {
        "trusted": true
      },
      "outputs": [],
      "execution_count": 26
    },
    {
      "cell_type": "code",
      "source": "mg=car(\"hector\",\"up54838\",300)\nmg.details()\nomni=van('omni2.0',\"ra342356\",\"200\")\nomni.details()",
      "metadata": {
        "trusted": true
      },
      "outputs": [
        {
          "name": "stdout",
          "text": "hector up54838 300\nthis is for car\nomni2.0 ra342356 200\nthis is for van\n",
          "output_type": "stream"
        }
      ],
      "execution_count": 29
    },
    {
      "cell_type": "code",
      "source": "#hybrid inheritance\nclass vehicle:\n    def __init__(self,name,number,max_speed):\n        self.name=name\n        self.number=number \n        self.max_speed=max_speed\n\nclass car(vehicle):\n    def details1(self):\n        print(self.name,self.number,self.max_speed)\n        print(\"this is for car\")\nclass bus(vehicle):\n    def details2(self):\n        print(self.name,self.number,self.max_speed)\n        print(\"this is for bus\")\n\nclass van(bus,car):\n    def details3(self):\n        print(self.name,self.number,self.max_speed)\n        print(\"this is for van\")\n        ",
      "metadata": {
        "trusted": true
      },
      "outputs": [],
      "execution_count": 4
    },
    {
      "cell_type": "code",
      "source": "object_=van(\"omni\",\"mp534789\",200)\nobject_.details3()\nobject_.details2()\n",
      "metadata": {
        "trusted": true
      },
      "outputs": [
        {
          "name": "stdout",
          "text": "omni mp534789 200\nthis is for van\n",
          "output_type": "stream"
        }
      ],
      "execution_count": 3
    },
    {
      "cell_type": "code",
      "source": "",
      "metadata": {
        "trusted": true
      },
      "outputs": [],
      "execution_count": null
    }
  ]
}